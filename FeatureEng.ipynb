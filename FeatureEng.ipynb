{
 "cells": [
  {
   "cell_type": "markdown",
   "metadata": {},
   "source": [
    "### Student Name: Michael Corrado"
   ]
  },
  {
   "cell_type": "code",
   "execution_count": 1,
   "metadata": {},
   "outputs": [],
   "source": [
    "#TODO: import the modules\n",
    "import pandas as pd\n",
    "import matplotlib.pyplot as plt\n",
    "from sklearn.feature_selection import RFE, SelectKBest\n",
    "from sklearn import svm\n",
    "from sklearn.preprocessing import MinMaxScaler"
   ]
  },
  {
   "cell_type": "markdown",
   "metadata": {},
   "source": [
    "### Step 1 - Load the data"
   ]
  },
  {
   "cell_type": "code",
   "execution_count": 2,
   "metadata": {},
   "outputs": [
    {
     "data": {
      "text/plain": [
       "<AxesSubplot:>"
      ]
     },
     "execution_count": 2,
     "metadata": {},
     "output_type": "execute_result"
    },
    {
     "data": {
      "image/png": "[encoded data removed]",
      "text/plain": [
       "<Figure size 432x288 with 1 Axes>"
      ]
     },
     "metadata": {
      "needs_background": "light"
     },
     "output_type": "display_data"
    }
   ],
   "source": [
    "sample_size = 1000\n",
    "file_path   = '/Users/Michael/Python Anaconda/Machine_Learning_SHU/Module6_featureEng/trip_data.csv' #TODO: provide the file path or URL to the dataset `trip_data.csv`\n",
    "\n",
    "df = pd.read_csv(file_path)\n",
    "df = df.groupby('tip').apply(lambda x: x.sample(sample_size))\n",
    "df = df.sample(frac=1) #shuffle the dataframe rows\n",
    "\n",
    "#visualize the sample data, which contain 1000 observations from each class\n",
    "df.tip.value_counts().sort_index().plot.bar()"
   ]
  },
  {
   "cell_type": "markdown",
   "metadata": {},
   "source": [
    "### Step 2: Create a new feature called `trip_duration`"
   ]
  },
  {
   "cell_type": "code",
   "execution_count": 3,
   "metadata": {},
   "outputs": [
    {
     "data": {
      "text/html": [
       "<div>\n",
       "<style scoped>\n",
       "    .dataframe tbody tr th:only-of-type {\n",
       "        vertical-align: middle;\n",
       "    }\n",
       "\n",
       "    .dataframe tbody tr th {\n",
       "        vertical-align: top;\n",
       "    }\n",
       "\n",
       "    .dataframe thead th {\n",
       "        text-align: right;\n",
       "    }\n",
       "</style>\n",
       "<table border=\"1\" class=\"dataframe\">\n",
       "  <thead>\n",
       "    <tr style=\"text-align: right;\">\n",
       "      <th></th>\n",
       "      <th></th>\n",
       "      <th>VendorID</th>\n",
       "      <th>lpep_pickup_datetime</th>\n",
       "      <th>lpep_dropoff_datetime</th>\n",
       "      <th>RatecodeID</th>\n",
       "      <th>PULocationID</th>\n",
       "      <th>DOLocationID</th>\n",
       "      <th>passenger_count</th>\n",
       "      <th>trip_distance</th>\n",
       "      <th>fare_amount</th>\n",
       "      <th>extra</th>\n",
       "      <th>mta_tax</th>\n",
       "      <th>tolls_amount</th>\n",
       "      <th>improvement_surcharge</th>\n",
       "      <th>total_amount</th>\n",
       "      <th>trip_type</th>\n",
       "      <th>congestion_surcharge</th>\n",
       "      <th>tip</th>\n",
       "    </tr>\n",
       "    <tr>\n",
       "      <th>tip</th>\n",
       "      <th></th>\n",
       "      <th></th>\n",
       "      <th></th>\n",
       "      <th></th>\n",
       "      <th></th>\n",
       "      <th></th>\n",
       "      <th></th>\n",
       "      <th></th>\n",
       "      <th></th>\n",
       "      <th></th>\n",
       "      <th></th>\n",
       "      <th></th>\n",
       "      <th></th>\n",
       "      <th></th>\n",
       "      <th></th>\n",
       "      <th></th>\n",
       "      <th></th>\n",
       "      <th></th>\n",
       "    </tr>\n",
       "  </thead>\n",
       "  <tbody>\n",
       "    <tr>\n",
       "      <th>standard</th>\n",
       "      <th>48952</th>\n",
       "      <td>2.0</td>\n",
       "      <td>2019-12-09 08:46:53</td>\n",
       "      <td>2019-12-09 08:52:57</td>\n",
       "      <td>1.0</td>\n",
       "      <td>75</td>\n",
       "      <td>74</td>\n",
       "      <td>5.0</td>\n",
       "      <td>1.71</td>\n",
       "      <td>7.0</td>\n",
       "      <td>0.0</td>\n",
       "      <td>0.5</td>\n",
       "      <td>0.0</td>\n",
       "      <td>0.3</td>\n",
       "      <td>9.36</td>\n",
       "      <td>1.0</td>\n",
       "      <td>0.0</td>\n",
       "      <td>standard</td>\n",
       "    </tr>\n",
       "    <tr>\n",
       "      <th>low</th>\n",
       "      <th>37863</th>\n",
       "      <td>2.0</td>\n",
       "      <td>2019-12-07 09:25:29</td>\n",
       "      <td>2019-12-07 09:36:26</td>\n",
       "      <td>1.0</td>\n",
       "      <td>41</td>\n",
       "      <td>168</td>\n",
       "      <td>1.0</td>\n",
       "      <td>2.72</td>\n",
       "      <td>11.0</td>\n",
       "      <td>0.0</td>\n",
       "      <td>0.5</td>\n",
       "      <td>0.0</td>\n",
       "      <td>0.3</td>\n",
       "      <td>13.00</td>\n",
       "      <td>1.0</td>\n",
       "      <td>0.0</td>\n",
       "      <td>low</td>\n",
       "    </tr>\n",
       "    <tr>\n",
       "      <th>no-tip</th>\n",
       "      <th>27262</th>\n",
       "      <td>2.0</td>\n",
       "      <td>2019-12-05 18:39:56</td>\n",
       "      <td>2019-12-05 18:47:20</td>\n",
       "      <td>1.0</td>\n",
       "      <td>41</td>\n",
       "      <td>74</td>\n",
       "      <td>6.0</td>\n",
       "      <td>0.90</td>\n",
       "      <td>6.5</td>\n",
       "      <td>1.0</td>\n",
       "      <td>0.5</td>\n",
       "      <td>0.0</td>\n",
       "      <td>0.3</td>\n",
       "      <td>8.30</td>\n",
       "      <td>1.0</td>\n",
       "      <td>0.0</td>\n",
       "      <td>no-tip</td>\n",
       "    </tr>\n",
       "    <tr>\n",
       "      <th rowspan=\"2\" valign=\"top\">standard</th>\n",
       "      <th>56509</th>\n",
       "      <td>2.0</td>\n",
       "      <td>2019-12-10 13:16:20</td>\n",
       "      <td>2019-12-10 13:24:11</td>\n",
       "      <td>1.0</td>\n",
       "      <td>243</td>\n",
       "      <td>243</td>\n",
       "      <td>1.0</td>\n",
       "      <td>1.03</td>\n",
       "      <td>7.0</td>\n",
       "      <td>0.0</td>\n",
       "      <td>0.5</td>\n",
       "      <td>0.0</td>\n",
       "      <td>0.3</td>\n",
       "      <td>9.36</td>\n",
       "      <td>1.0</td>\n",
       "      <td>0.0</td>\n",
       "      <td>standard</td>\n",
       "    </tr>\n",
       "    <tr>\n",
       "      <th>90555</th>\n",
       "      <td>2.0</td>\n",
       "      <td>2019-12-15 17:45:27</td>\n",
       "      <td>2019-12-15 17:58:53</td>\n",
       "      <td>1.0</td>\n",
       "      <td>166</td>\n",
       "      <td>238</td>\n",
       "      <td>1.0</td>\n",
       "      <td>1.49</td>\n",
       "      <td>10.0</td>\n",
       "      <td>0.0</td>\n",
       "      <td>0.5</td>\n",
       "      <td>0.0</td>\n",
       "      <td>0.3</td>\n",
       "      <td>13.50</td>\n",
       "      <td>1.0</td>\n",
       "      <td>0.0</td>\n",
       "      <td>standard</td>\n",
       "    </tr>\n",
       "  </tbody>\n",
       "</table>\n",
       "</div>"
      ],
      "text/plain": [
       "                VendorID lpep_pickup_datetime lpep_dropoff_datetime  \\\n",
       "tip                                                                   \n",
       "standard 48952       2.0  2019-12-09 08:46:53   2019-12-09 08:52:57   \n",
       "low      37863       2.0  2019-12-07 09:25:29   2019-12-07 09:36:26   \n",
       "no-tip   27262       2.0  2019-12-05 18:39:56   2019-12-05 18:47:20   \n",
       "standard 56509       2.0  2019-12-10 13:16:20   2019-12-10 13:24:11   \n",
       "         90555       2.0  2019-12-15 17:45:27   2019-12-15 17:58:53   \n",
       "\n",
       "                RatecodeID  PULocationID  DOLocationID  passenger_count  \\\n",
       "tip                                                                       \n",
       "standard 48952         1.0            75            74              5.0   \n",
       "low      37863         1.0            41           168              1.0   \n",
       "no-tip   27262         1.0            41            74              6.0   \n",
       "standard 56509         1.0           243           243              1.0   \n",
       "         90555         1.0           166           238              1.0   \n",
       "\n",
       "                trip_distance  fare_amount  extra  mta_tax  tolls_amount  \\\n",
       "tip                                                                        \n",
       "standard 48952           1.71          7.0    0.0      0.5           0.0   \n",
       "low      37863           2.72         11.0    0.0      0.5           0.0   \n",
       "no-tip   27262           0.90          6.5    1.0      0.5           0.0   \n",
       "standard 56509           1.03          7.0    0.0      0.5           0.0   \n",
       "         90555           1.49         10.0    0.0      0.5           0.0   \n",
       "\n",
       "                improvement_surcharge  total_amount  trip_type  \\\n",
       "tip                                                              \n",
       "standard 48952                    0.3          9.36        1.0   \n",
       "low      37863                    0.3         13.00        1.0   \n",
       "no-tip   27262                    0.3          8.30        1.0   \n",
       "standard 56509                    0.3          9.36        1.0   \n",
       "         90555                    0.3         13.50        1.0   \n",
       "\n",
       "                congestion_surcharge       tip  \n",
       "tip                                             \n",
       "standard 48952                   0.0  standard  \n",
       "low      37863                   0.0       low  \n",
       "no-tip   27262                   0.0    no-tip  \n",
       "standard 56509                   0.0  standard  \n",
       "         90555                   0.0  standard  "
      ]
     },
     "execution_count": 3,
     "metadata": {},
     "output_type": "execute_result"
    }
   ],
   "source": [
    "df.head()"
   ]
  },
  {
   "cell_type": "code",
   "execution_count": 4,
   "metadata": {},
   "outputs": [
    {
     "name": "stdout",
     "output_type": "stream",
     "text": [
      "<class 'pandas.core.frame.DataFrame'>\n",
      "MultiIndex: 4000 entries, ('standard', 48952) to ('low', 53132)\n",
      "Data columns (total 17 columns):\n",
      " #   Column                 Non-Null Count  Dtype  \n",
      "---  ------                 --------------  -----  \n",
      " 0   VendorID               4000 non-null   float64\n",
      " 1   lpep_pickup_datetime   4000 non-null   object \n",
      " 2   lpep_dropoff_datetime  4000 non-null   object \n",
      " 3   RatecodeID             4000 non-null   float64\n",
      " 4   PULocationID           4000 non-null   int64  \n",
      " 5   DOLocationID           4000 non-null   int64  \n",
      " 6   passenger_count        4000 non-null   float64\n",
      " 7   trip_distance          4000 non-null   float64\n",
      " 8   fare_amount            4000 non-null   float64\n",
      " 9   extra                  4000 non-null   float64\n",
      " 10  mta_tax                4000 non-null   float64\n",
      " 11  tolls_amount           4000 non-null   float64\n",
      " 12  improvement_surcharge  4000 non-null   float64\n",
      " 13  total_amount           4000 non-null   float64\n",
      " 14  trip_type              4000 non-null   float64\n",
      " 15  congestion_surcharge   4000 non-null   float64\n",
      " 16  tip                    4000 non-null   object \n",
      "dtypes: float64(12), int64(2), object(3)\n",
      "memory usage: 703.4+ KB\n"
     ]
    }
   ],
   "source": [
    "df.info()"
   ]
  },
  {
   "cell_type": "code",
   "execution_count": 5,
   "metadata": {},
   "outputs": [
    {
     "data": {
      "text/html": [
       "<div>\n",
       "<style scoped>\n",
       "    .dataframe tbody tr th:only-of-type {\n",
       "        vertical-align: middle;\n",
       "    }\n",
       "\n",
       "    .dataframe tbody tr th {\n",
       "        vertical-align: top;\n",
       "    }\n",
       "\n",
       "    .dataframe thead th {\n",
       "        text-align: right;\n",
       "    }\n",
       "</style>\n",
       "<table border=\"1\" class=\"dataframe\">\n",
       "  <thead>\n",
       "    <tr style=\"text-align: right;\">\n",
       "      <th></th>\n",
       "      <th>VendorID</th>\n",
       "      <th>RatecodeID</th>\n",
       "      <th>PULocationID</th>\n",
       "      <th>DOLocationID</th>\n",
       "      <th>passenger_count</th>\n",
       "      <th>trip_distance</th>\n",
       "      <th>fare_amount</th>\n",
       "      <th>extra</th>\n",
       "      <th>mta_tax</th>\n",
       "      <th>tolls_amount</th>\n",
       "      <th>improvement_surcharge</th>\n",
       "      <th>total_amount</th>\n",
       "      <th>trip_type</th>\n",
       "      <th>congestion_surcharge</th>\n",
       "    </tr>\n",
       "  </thead>\n",
       "  <tbody>\n",
       "    <tr>\n",
       "      <th>count</th>\n",
       "      <td>4000.000000</td>\n",
       "      <td>4000.000000</td>\n",
       "      <td>4000.000000</td>\n",
       "      <td>4000.000000</td>\n",
       "      <td>4000.000000</td>\n",
       "      <td>4000.000000</td>\n",
       "      <td>4000.000000</td>\n",
       "      <td>4000.000000</td>\n",
       "      <td>4000.000000</td>\n",
       "      <td>4000.000000</td>\n",
       "      <td>4000.00000</td>\n",
       "      <td>4000.000000</td>\n",
       "      <td>4000.000000</td>\n",
       "      <td>4000.000000</td>\n",
       "    </tr>\n",
       "    <tr>\n",
       "      <th>mean</th>\n",
       "      <td>1.824750</td>\n",
       "      <td>1.041250</td>\n",
       "      <td>104.754500</td>\n",
       "      <td>132.057500</td>\n",
       "      <td>1.320250</td>\n",
       "      <td>2.340045</td>\n",
       "      <td>11.139625</td>\n",
       "      <td>0.443750</td>\n",
       "      <td>0.495250</td>\n",
       "      <td>0.054480</td>\n",
       "      <td>0.29835</td>\n",
       "      <td>14.879320</td>\n",
       "      <td>1.008000</td>\n",
       "      <td>0.534375</td>\n",
       "    </tr>\n",
       "    <tr>\n",
       "      <th>std</th>\n",
       "      <td>0.380228</td>\n",
       "      <td>0.401981</td>\n",
       "      <td>69.176593</td>\n",
       "      <td>77.283985</td>\n",
       "      <td>1.001969</td>\n",
       "      <td>1.728439</td>\n",
       "      <td>6.224059</td>\n",
       "      <td>0.628065</td>\n",
       "      <td>0.048508</td>\n",
       "      <td>0.569729</td>\n",
       "      <td>0.02219</td>\n",
       "      <td>7.781543</td>\n",
       "      <td>0.089095</td>\n",
       "      <td>1.088070</td>\n",
       "    </tr>\n",
       "    <tr>\n",
       "      <th>min</th>\n",
       "      <td>1.000000</td>\n",
       "      <td>1.000000</td>\n",
       "      <td>3.000000</td>\n",
       "      <td>3.000000</td>\n",
       "      <td>0.000000</td>\n",
       "      <td>0.010000</td>\n",
       "      <td>2.500000</td>\n",
       "      <td>0.000000</td>\n",
       "      <td>0.000000</td>\n",
       "      <td>0.000000</td>\n",
       "      <td>0.00000</td>\n",
       "      <td>3.800000</td>\n",
       "      <td>1.000000</td>\n",
       "      <td>0.000000</td>\n",
       "    </tr>\n",
       "    <tr>\n",
       "      <th>25%</th>\n",
       "      <td>2.000000</td>\n",
       "      <td>1.000000</td>\n",
       "      <td>52.000000</td>\n",
       "      <td>65.000000</td>\n",
       "      <td>1.000000</td>\n",
       "      <td>1.090000</td>\n",
       "      <td>6.500000</td>\n",
       "      <td>0.000000</td>\n",
       "      <td>0.500000</td>\n",
       "      <td>0.000000</td>\n",
       "      <td>0.30000</td>\n",
       "      <td>9.360000</td>\n",
       "      <td>1.000000</td>\n",
       "      <td>0.000000</td>\n",
       "    </tr>\n",
       "    <tr>\n",
       "      <th>50%</th>\n",
       "      <td>2.000000</td>\n",
       "      <td>1.000000</td>\n",
       "      <td>75.000000</td>\n",
       "      <td>134.000000</td>\n",
       "      <td>1.000000</td>\n",
       "      <td>1.800000</td>\n",
       "      <td>9.500000</td>\n",
       "      <td>0.500000</td>\n",
       "      <td>0.500000</td>\n",
       "      <td>0.000000</td>\n",
       "      <td>0.30000</td>\n",
       "      <td>12.360000</td>\n",
       "      <td>1.000000</td>\n",
       "      <td>0.000000</td>\n",
       "    </tr>\n",
       "    <tr>\n",
       "      <th>75%</th>\n",
       "      <td>2.000000</td>\n",
       "      <td>1.000000</td>\n",
       "      <td>152.000000</td>\n",
       "      <td>197.000000</td>\n",
       "      <td>1.000000</td>\n",
       "      <td>3.080000</td>\n",
       "      <td>14.000000</td>\n",
       "      <td>0.500000</td>\n",
       "      <td>0.500000</td>\n",
       "      <td>0.000000</td>\n",
       "      <td>0.30000</td>\n",
       "      <td>18.360000</td>\n",
       "      <td>1.000000</td>\n",
       "      <td>0.000000</td>\n",
       "    </tr>\n",
       "    <tr>\n",
       "      <th>max</th>\n",
       "      <td>2.000000</td>\n",
       "      <td>5.000000</td>\n",
       "      <td>265.000000</td>\n",
       "      <td>265.000000</td>\n",
       "      <td>6.000000</td>\n",
       "      <td>8.380000</td>\n",
       "      <td>55.000000</td>\n",
       "      <td>3.750000</td>\n",
       "      <td>0.500000</td>\n",
       "      <td>6.120000</td>\n",
       "      <td>0.30000</td>\n",
       "      <td>63.050000</td>\n",
       "      <td>2.000000</td>\n",
       "      <td>2.750000</td>\n",
       "    </tr>\n",
       "  </tbody>\n",
       "</table>\n",
       "</div>"
      ],
      "text/plain": [
       "          VendorID   RatecodeID  PULocationID  DOLocationID  passenger_count  \\\n",
       "count  4000.000000  4000.000000   4000.000000   4000.000000      4000.000000   \n",
       "mean      1.824750     1.041250    104.754500    132.057500         1.320250   \n",
       "std       0.380228     0.401981     69.176593     77.283985         1.001969   \n",
       "min       1.000000     1.000000      3.000000      3.000000         0.000000   \n",
       "25%       2.000000     1.000000     52.000000     65.000000         1.000000   \n",
       "50%       2.000000     1.000000     75.000000    134.000000         1.000000   \n",
       "75%       2.000000     1.000000    152.000000    197.000000         1.000000   \n",
       "max       2.000000     5.000000    265.000000    265.000000         6.000000   \n",
       "\n",
       "       trip_distance  fare_amount        extra      mta_tax  tolls_amount  \\\n",
       "count    4000.000000  4000.000000  4000.000000  4000.000000   4000.000000   \n",
       "mean        2.340045    11.139625     0.443750     0.495250      0.054480   \n",
       "std         1.728439     6.224059     0.628065     0.048508      0.569729   \n",
       "min         0.010000     2.500000     0.000000     0.000000      0.000000   \n",
       "25%         1.090000     6.500000     0.000000     0.500000      0.000000   \n",
       "50%         1.800000     9.500000     0.500000     0.500000      0.000000   \n",
       "75%         3.080000    14.000000     0.500000     0.500000      0.000000   \n",
       "max         8.380000    55.000000     3.750000     0.500000      6.120000   \n",
       "\n",
       "       improvement_surcharge  total_amount    trip_type  congestion_surcharge  \n",
       "count             4000.00000   4000.000000  4000.000000           4000.000000  \n",
       "mean                 0.29835     14.879320     1.008000              0.534375  \n",
       "std                  0.02219      7.781543     0.089095              1.088070  \n",
       "min                  0.00000      3.800000     1.000000              0.000000  \n",
       "25%                  0.30000      9.360000     1.000000              0.000000  \n",
       "50%                  0.30000     12.360000     1.000000              0.000000  \n",
       "75%                  0.30000     18.360000     1.000000              0.000000  \n",
       "max                  0.30000     63.050000     2.000000              2.750000  "
      ]
     },
     "execution_count": 5,
     "metadata": {},
     "output_type": "execute_result"
    }
   ],
   "source": [
    "df.describe()"
   ]
  },
  {
   "cell_type": "markdown",
   "metadata": {},
   "source": [
    "**Observation**\n",
    "- The data exploration above helps individuals observing the dataset understand the values more"
   ]
  },
  {
   "cell_type": "code",
   "execution_count": 6,
   "metadata": {},
   "outputs": [],
   "source": [
    "df['lpep_pickup_datetime']=pd.to_datetime(df['lpep_pickup_datetime'], format=\"%Y-%m-%d %H:%M:%S\")"
   ]
  },
  {
   "cell_type": "code",
   "execution_count": 7,
   "metadata": {},
   "outputs": [],
   "source": [
    "df['lpep_dropoff_datetime']=pd.to_datetime(df['lpep_dropoff_datetime'], format=\"%Y-%m-%d %H:%M:%S\")"
   ]
  },
  {
   "cell_type": "code",
   "execution_count": 8,
   "metadata": {},
   "outputs": [],
   "source": [
    "from datetime import datetime"
   ]
  },
  {
   "cell_type": "code",
   "execution_count": 9,
   "metadata": {},
   "outputs": [],
   "source": [
    "#Create a new feature called trip_duration and add it to the dataframe\n",
    "\n",
    "#TODO: Calculate the difference between `lpep_pickup_datetime` and `lpep_dropoff_datetime` in seconds (this should be a positive number).\n",
    "\n",
    "df['trip_duration'] = df['lpep_dropoff_datetime']-df['lpep_pickup_datetime']#TODO: store the elapsed time (from above) into the dataframe.\n",
    "\n",
    "#Remove the `lpep_pickup_datetime` and `lpep_dropoff_datetime` from the dataframe.\n",
    "del df['lpep_dropoff_datetime']\n",
    "del df['lpep_pickup_datetime']"
   ]
  },
  {
   "cell_type": "code",
   "execution_count": 10,
   "metadata": {},
   "outputs": [
    {
     "data": {
      "text/html": [
       "<div>\n",
       "<style scoped>\n",
       "    .dataframe tbody tr th:only-of-type {\n",
       "        vertical-align: middle;\n",
       "    }\n",
       "\n",
       "    .dataframe tbody tr th {\n",
       "        vertical-align: top;\n",
       "    }\n",
       "\n",
       "    .dataframe thead th {\n",
       "        text-align: right;\n",
       "    }\n",
       "</style>\n",
       "<table border=\"1\" class=\"dataframe\">\n",
       "  <thead>\n",
       "    <tr style=\"text-align: right;\">\n",
       "      <th></th>\n",
       "      <th></th>\n",
       "      <th>VendorID</th>\n",
       "      <th>RatecodeID</th>\n",
       "      <th>PULocationID</th>\n",
       "      <th>DOLocationID</th>\n",
       "      <th>passenger_count</th>\n",
       "      <th>trip_distance</th>\n",
       "      <th>fare_amount</th>\n",
       "      <th>extra</th>\n",
       "      <th>mta_tax</th>\n",
       "      <th>tolls_amount</th>\n",
       "      <th>improvement_surcharge</th>\n",
       "      <th>total_amount</th>\n",
       "      <th>trip_type</th>\n",
       "      <th>congestion_surcharge</th>\n",
       "      <th>tip</th>\n",
       "      <th>trip_duration</th>\n",
       "    </tr>\n",
       "    <tr>\n",
       "      <th>tip</th>\n",
       "      <th></th>\n",
       "      <th></th>\n",
       "      <th></th>\n",
       "      <th></th>\n",
       "      <th></th>\n",
       "      <th></th>\n",
       "      <th></th>\n",
       "      <th></th>\n",
       "      <th></th>\n",
       "      <th></th>\n",
       "      <th></th>\n",
       "      <th></th>\n",
       "      <th></th>\n",
       "      <th></th>\n",
       "      <th></th>\n",
       "      <th></th>\n",
       "      <th></th>\n",
       "    </tr>\n",
       "  </thead>\n",
       "  <tbody>\n",
       "    <tr>\n",
       "      <th>standard</th>\n",
       "      <th>48952</th>\n",
       "      <td>2.0</td>\n",
       "      <td>1.0</td>\n",
       "      <td>75</td>\n",
       "      <td>74</td>\n",
       "      <td>5.0</td>\n",
       "      <td>1.71</td>\n",
       "      <td>7.0</td>\n",
       "      <td>0.0</td>\n",
       "      <td>0.5</td>\n",
       "      <td>0.0</td>\n",
       "      <td>0.3</td>\n",
       "      <td>9.36</td>\n",
       "      <td>1.0</td>\n",
       "      <td>0.0</td>\n",
       "      <td>standard</td>\n",
       "      <td>0 days 00:06:04</td>\n",
       "    </tr>\n",
       "    <tr>\n",
       "      <th>low</th>\n",
       "      <th>37863</th>\n",
       "      <td>2.0</td>\n",
       "      <td>1.0</td>\n",
       "      <td>41</td>\n",
       "      <td>168</td>\n",
       "      <td>1.0</td>\n",
       "      <td>2.72</td>\n",
       "      <td>11.0</td>\n",
       "      <td>0.0</td>\n",
       "      <td>0.5</td>\n",
       "      <td>0.0</td>\n",
       "      <td>0.3</td>\n",
       "      <td>13.00</td>\n",
       "      <td>1.0</td>\n",
       "      <td>0.0</td>\n",
       "      <td>low</td>\n",
       "      <td>0 days 00:10:57</td>\n",
       "    </tr>\n",
       "    <tr>\n",
       "      <th>no-tip</th>\n",
       "      <th>27262</th>\n",
       "      <td>2.0</td>\n",
       "      <td>1.0</td>\n",
       "      <td>41</td>\n",
       "      <td>74</td>\n",
       "      <td>6.0</td>\n",
       "      <td>0.90</td>\n",
       "      <td>6.5</td>\n",
       "      <td>1.0</td>\n",
       "      <td>0.5</td>\n",
       "      <td>0.0</td>\n",
       "      <td>0.3</td>\n",
       "      <td>8.30</td>\n",
       "      <td>1.0</td>\n",
       "      <td>0.0</td>\n",
       "      <td>no-tip</td>\n",
       "      <td>0 days 00:07:24</td>\n",
       "    </tr>\n",
       "    <tr>\n",
       "      <th rowspan=\"2\" valign=\"top\">standard</th>\n",
       "      <th>56509</th>\n",
       "      <td>2.0</td>\n",
       "      <td>1.0</td>\n",
       "      <td>243</td>\n",
       "      <td>243</td>\n",
       "      <td>1.0</td>\n",
       "      <td>1.03</td>\n",
       "      <td>7.0</td>\n",
       "      <td>0.0</td>\n",
       "      <td>0.5</td>\n",
       "      <td>0.0</td>\n",
       "      <td>0.3</td>\n",
       "      <td>9.36</td>\n",
       "      <td>1.0</td>\n",
       "      <td>0.0</td>\n",
       "      <td>standard</td>\n",
       "      <td>0 days 00:07:51</td>\n",
       "    </tr>\n",
       "    <tr>\n",
       "      <th>90555</th>\n",
       "      <td>2.0</td>\n",
       "      <td>1.0</td>\n",
       "      <td>166</td>\n",
       "      <td>238</td>\n",
       "      <td>1.0</td>\n",
       "      <td>1.49</td>\n",
       "      <td>10.0</td>\n",
       "      <td>0.0</td>\n",
       "      <td>0.5</td>\n",
       "      <td>0.0</td>\n",
       "      <td>0.3</td>\n",
       "      <td>13.50</td>\n",
       "      <td>1.0</td>\n",
       "      <td>0.0</td>\n",
       "      <td>standard</td>\n",
       "      <td>0 days 00:13:26</td>\n",
       "    </tr>\n",
       "  </tbody>\n",
       "</table>\n",
       "</div>"
      ],
      "text/plain": [
       "                VendorID  RatecodeID  PULocationID  DOLocationID  \\\n",
       "tip                                                                \n",
       "standard 48952       2.0         1.0            75            74   \n",
       "low      37863       2.0         1.0            41           168   \n",
       "no-tip   27262       2.0         1.0            41            74   \n",
       "standard 56509       2.0         1.0           243           243   \n",
       "         90555       2.0         1.0           166           238   \n",
       "\n",
       "                passenger_count  trip_distance  fare_amount  extra  mta_tax  \\\n",
       "tip                                                                           \n",
       "standard 48952              5.0           1.71          7.0    0.0      0.5   \n",
       "low      37863              1.0           2.72         11.0    0.0      0.5   \n",
       "no-tip   27262              6.0           0.90          6.5    1.0      0.5   \n",
       "standard 56509              1.0           1.03          7.0    0.0      0.5   \n",
       "         90555              1.0           1.49         10.0    0.0      0.5   \n",
       "\n",
       "                tolls_amount  improvement_surcharge  total_amount  trip_type  \\\n",
       "tip                                                                            \n",
       "standard 48952           0.0                    0.3          9.36        1.0   \n",
       "low      37863           0.0                    0.3         13.00        1.0   \n",
       "no-tip   27262           0.0                    0.3          8.30        1.0   \n",
       "standard 56509           0.0                    0.3          9.36        1.0   \n",
       "         90555           0.0                    0.3         13.50        1.0   \n",
       "\n",
       "                congestion_surcharge       tip   trip_duration  \n",
       "tip                                                             \n",
       "standard 48952                   0.0  standard 0 days 00:06:04  \n",
       "low      37863                   0.0       low 0 days 00:10:57  \n",
       "no-tip   27262                   0.0    no-tip 0 days 00:07:24  \n",
       "standard 56509                   0.0  standard 0 days 00:07:51  \n",
       "         90555                   0.0  standard 0 days 00:13:26  "
      ]
     },
     "execution_count": 10,
     "metadata": {},
     "output_type": "execute_result"
    }
   ],
   "source": [
    "df.head()"
   ]
  },
  {
   "cell_type": "markdown",
   "metadata": {},
   "source": [
    "### Step 3: Encode the labels in the `tip` field.\n",
    "Use the [LabelEncoder](https://scikit-learn.org/stable/modules/generated/sklearn.preprocessing.LabelEncoder.html) in scikit learn."
   ]
  },
  {
   "cell_type": "code",
   "execution_count": 11,
   "metadata": {},
   "outputs": [],
   "source": [
    "#Encode the class labels\n",
    "from sklearn import preprocessing\n",
    "#TODO: Initialize the `LabelEncoder`\n",
    "le = preprocessing.LabelEncoder()\n",
    "#TODO: Fit the `LabelEncoder` to the class labels in the 'tip' field\n",
    "le.fit(df['tip'])\n",
    "#TODO: Use the `LabelEncoder` to encode class labels in the 'tip' field.\n",
    "le.classes_\n",
    "#TODO: Display the encoded labels\n",
    "tip = le.transform(df[\"tip\"])\n",
    "df[\"imported_tip\"] = le.fit_transform(df[\"tip\"])"
   ]
  },
  {
   "cell_type": "code",
   "execution_count": 12,
   "metadata": {},
   "outputs": [],
   "source": [
    "#assign the input features and the class labels to variables 'X' and 'y' respectively.\n",
    "\n",
    "X = df.iloc[:, [1,2,3,4,5,6,7,8,9,10,11,12,13]]#TODO: assign the input features (in the dataframe) to a variable 'X'.\n",
    "y = df.iloc[:,16]#TODO: assign the encoded labels to a variale 'y'."
   ]
  },
  {
   "cell_type": "code",
   "execution_count": 13,
   "metadata": {},
   "outputs": [
    {
     "data": {
      "text/html": [
       "<div>\n",
       "<style scoped>\n",
       "    .dataframe tbody tr th:only-of-type {\n",
       "        vertical-align: middle;\n",
       "    }\n",
       "\n",
       "    .dataframe tbody tr th {\n",
       "        vertical-align: top;\n",
       "    }\n",
       "\n",
       "    .dataframe thead th {\n",
       "        text-align: right;\n",
       "    }\n",
       "</style>\n",
       "<table border=\"1\" class=\"dataframe\">\n",
       "  <thead>\n",
       "    <tr style=\"text-align: right;\">\n",
       "      <th></th>\n",
       "      <th></th>\n",
       "      <th>RatecodeID</th>\n",
       "      <th>PULocationID</th>\n",
       "      <th>DOLocationID</th>\n",
       "      <th>passenger_count</th>\n",
       "      <th>trip_distance</th>\n",
       "      <th>fare_amount</th>\n",
       "      <th>extra</th>\n",
       "      <th>mta_tax</th>\n",
       "      <th>tolls_amount</th>\n",
       "      <th>improvement_surcharge</th>\n",
       "      <th>total_amount</th>\n",
       "      <th>trip_type</th>\n",
       "      <th>congestion_surcharge</th>\n",
       "    </tr>\n",
       "    <tr>\n",
       "      <th>tip</th>\n",
       "      <th></th>\n",
       "      <th></th>\n",
       "      <th></th>\n",
       "      <th></th>\n",
       "      <th></th>\n",
       "      <th></th>\n",
       "      <th></th>\n",
       "      <th></th>\n",
       "      <th></th>\n",
       "      <th></th>\n",
       "      <th></th>\n",
       "      <th></th>\n",
       "      <th></th>\n",
       "      <th></th>\n",
       "    </tr>\n",
       "  </thead>\n",
       "  <tbody>\n",
       "    <tr>\n",
       "      <th>standard</th>\n",
       "      <th>48952</th>\n",
       "      <td>1.0</td>\n",
       "      <td>75</td>\n",
       "      <td>74</td>\n",
       "      <td>5.0</td>\n",
       "      <td>1.71</td>\n",
       "      <td>7.0</td>\n",
       "      <td>0.0</td>\n",
       "      <td>0.5</td>\n",
       "      <td>0.0</td>\n",
       "      <td>0.3</td>\n",
       "      <td>9.36</td>\n",
       "      <td>1.0</td>\n",
       "      <td>0.0</td>\n",
       "    </tr>\n",
       "    <tr>\n",
       "      <th>low</th>\n",
       "      <th>37863</th>\n",
       "      <td>1.0</td>\n",
       "      <td>41</td>\n",
       "      <td>168</td>\n",
       "      <td>1.0</td>\n",
       "      <td>2.72</td>\n",
       "      <td>11.0</td>\n",
       "      <td>0.0</td>\n",
       "      <td>0.5</td>\n",
       "      <td>0.0</td>\n",
       "      <td>0.3</td>\n",
       "      <td>13.00</td>\n",
       "      <td>1.0</td>\n",
       "      <td>0.0</td>\n",
       "    </tr>\n",
       "    <tr>\n",
       "      <th>no-tip</th>\n",
       "      <th>27262</th>\n",
       "      <td>1.0</td>\n",
       "      <td>41</td>\n",
       "      <td>74</td>\n",
       "      <td>6.0</td>\n",
       "      <td>0.90</td>\n",
       "      <td>6.5</td>\n",
       "      <td>1.0</td>\n",
       "      <td>0.5</td>\n",
       "      <td>0.0</td>\n",
       "      <td>0.3</td>\n",
       "      <td>8.30</td>\n",
       "      <td>1.0</td>\n",
       "      <td>0.0</td>\n",
       "    </tr>\n",
       "    <tr>\n",
       "      <th rowspan=\"2\" valign=\"top\">standard</th>\n",
       "      <th>56509</th>\n",
       "      <td>1.0</td>\n",
       "      <td>243</td>\n",
       "      <td>243</td>\n",
       "      <td>1.0</td>\n",
       "      <td>1.03</td>\n",
       "      <td>7.0</td>\n",
       "      <td>0.0</td>\n",
       "      <td>0.5</td>\n",
       "      <td>0.0</td>\n",
       "      <td>0.3</td>\n",
       "      <td>9.36</td>\n",
       "      <td>1.0</td>\n",
       "      <td>0.0</td>\n",
       "    </tr>\n",
       "    <tr>\n",
       "      <th>90555</th>\n",
       "      <td>1.0</td>\n",
       "      <td>166</td>\n",
       "      <td>238</td>\n",
       "      <td>1.0</td>\n",
       "      <td>1.49</td>\n",
       "      <td>10.0</td>\n",
       "      <td>0.0</td>\n",
       "      <td>0.5</td>\n",
       "      <td>0.0</td>\n",
       "      <td>0.3</td>\n",
       "      <td>13.50</td>\n",
       "      <td>1.0</td>\n",
       "      <td>0.0</td>\n",
       "    </tr>\n",
       "  </tbody>\n",
       "</table>\n",
       "</div>"
      ],
      "text/plain": [
       "                RatecodeID  PULocationID  DOLocationID  passenger_count  \\\n",
       "tip                                                                       \n",
       "standard 48952         1.0            75            74              5.0   \n",
       "low      37863         1.0            41           168              1.0   \n",
       "no-tip   27262         1.0            41            74              6.0   \n",
       "standard 56509         1.0           243           243              1.0   \n",
       "         90555         1.0           166           238              1.0   \n",
       "\n",
       "                trip_distance  fare_amount  extra  mta_tax  tolls_amount  \\\n",
       "tip                                                                        \n",
       "standard 48952           1.71          7.0    0.0      0.5           0.0   \n",
       "low      37863           2.72         11.0    0.0      0.5           0.0   \n",
       "no-tip   27262           0.90          6.5    1.0      0.5           0.0   \n",
       "standard 56509           1.03          7.0    0.0      0.5           0.0   \n",
       "         90555           1.49         10.0    0.0      0.5           0.0   \n",
       "\n",
       "                improvement_surcharge  total_amount  trip_type  \\\n",
       "tip                                                              \n",
       "standard 48952                    0.3          9.36        1.0   \n",
       "low      37863                    0.3         13.00        1.0   \n",
       "no-tip   27262                    0.3          8.30        1.0   \n",
       "standard 56509                    0.3          9.36        1.0   \n",
       "         90555                    0.3         13.50        1.0   \n",
       "\n",
       "                congestion_surcharge  \n",
       "tip                                   \n",
       "standard 48952                   0.0  \n",
       "low      37863                   0.0  \n",
       "no-tip   27262                   0.0  \n",
       "standard 56509                   0.0  \n",
       "         90555                   0.0  "
      ]
     },
     "execution_count": 13,
     "metadata": {},
     "output_type": "execute_result"
    }
   ],
   "source": [
    "X.head()"
   ]
  },
  {
   "cell_type": "markdown",
   "metadata": {},
   "source": [
    "### Step 4: Feature selection"
   ]
  },
  {
   "cell_type": "markdown",
   "metadata": {},
   "source": [
    "#### Filter Methods"
   ]
  },
  {
   "cell_type": "markdown",
   "metadata": {},
   "source": [
    "[Univariate feature selection](https://scikit-learn.org/stable/modules/feature_selection.html#univariate-feature-selection): use [SelectKBest](https://scikit-learn.org/stable/modules/generated/sklearn.feature_selection.SelectKBest.html#sklearn.feature_selection.SelectKBest) to select the seven highest scoring features (i.e. k=7)."
   ]
  },
  {
   "cell_type": "code",
   "execution_count": 14,
   "metadata": {},
   "outputs": [
    {
     "name": "stdout",
     "output_type": "stream",
     "text": [
      "[[ 75.    74.     7.     9.36   0.  ]\n",
      " [ 41.   168.    11.    13.     0.  ]\n",
      " [ 41.    74.     6.5    8.3    0.  ]\n",
      " [243.   243.     7.     9.36   0.  ]\n",
      " [166.   238.    10.    13.5    0.  ]]\n"
     ]
    },
    {
     "data": {
      "text/plain": [
       "['PULocationID',\n",
       " 'DOLocationID',\n",
       " 'fare_amount',\n",
       " 'total_amount',\n",
       " 'congestion_surcharge']"
      ]
     },
     "execution_count": 14,
     "metadata": {},
     "output_type": "execute_result"
    }
   ],
   "source": [
    "#Univariate feature selection using SelectKBest.\n",
    "from sklearn.datasets import load_digits\n",
    "from sklearn.feature_selection import SelectKBest, chi2\n",
    "k_best   = SelectKBest(chi2, #TODO choose either chi2 or f_classif\n",
    "                     k=5 #TODO: enter the value for k\n",
    "                    )\n",
    "\n",
    "k_best   = k_best.fit(X, y)\n",
    "\n",
    "features = k_best.transform(X)\n",
    "\n",
    "#TODO: display the names of the selected features below\n",
    "features.shape\n",
    "print(features[0:5,:])\n",
    "from sklearn.feature_selection import SelectKBest\n",
    "X.columns[k_best.get_support(indices=True)].tolist()"
   ]
  },
  {
   "cell_type": "markdown",
   "metadata": {},
   "source": [
    "#### Wrapper methods"
   ]
  },
  {
   "cell_type": "markdown",
   "metadata": {},
   "source": [
    "Identify the top seven features using [Support Vector Machines (SVM)](https://scikit-learn.org/stable/modules/svm.html) and [Recursive feature elimination (RFE)](https://scikit-learn.org/stable/modules/generated/sklearn.feature_selection.RFE.html#sklearn.feature_selection.RFE).\n",
    "\n",
    "Here is an example on using [SVMs for classification](https://scikit-learn.org/stable/modules/svm.html#classification) and [RFE](https://scikit-learn.org/stable/auto_examples/feature_selection/plot_rfe_digits.html#sphx-glr-auto-examples-feature-selection-plot-rfe-digits-py) in scikit-learn."
   ]
  },
  {
   "cell_type": "code",
   "execution_count": 15,
   "metadata": {},
   "outputs": [
    {
     "name": "stdout",
     "output_type": "stream",
     "text": [
      "Fitting estimator with 13 features.\n",
      "Fitting estimator with 12 features.\n",
      "Fitting estimator with 11 features.\n",
      "Fitting estimator with 10 features.\n",
      "Fitting estimator with 9 features.\n",
      "Fitting estimator with 8 features.\n",
      "Fitting estimator with 7 features.\n",
      "Fitting estimator with 6 features.\n",
      "RFE(estimator=SVC(kernel='linear'), n_features_to_select=5, verbose=1)\n"
     ]
    }
   ],
   "source": [
    "\n",
    "svm_estimator = svm.SVC(kernel='linear') #initialize the SVM estimator\n",
    "\n",
    "#TODO: Recursive Feature Elimination\n",
    "rfe = RFE(estimator=svm_estimator, #TODO: provide the SVM estimator \n",
    "          verbose=1, \n",
    "          n_features_to_select=5#TODO: enter the number of required features\n",
    "         )\n",
    "\n",
    "rfe.fit(X, y) #Note: this may take a few minutes to complete\n",
    "\n",
    "#TODO: display the names of the selected features below\n",
    "print(rfe)\n"
   ]
  },
  {
   "cell_type": "code",
   "execution_count": 16,
   "metadata": {},
   "outputs": [
    {
     "data": {
      "text/plain": [
       "['fare_amount',\n",
       " 'extra',\n",
       " 'tolls_amount',\n",
       " 'total_amount',\n",
       " 'congestion_surcharge']"
      ]
     },
     "execution_count": 16,
     "metadata": {},
     "output_type": "execute_result"
    }
   ],
   "source": [
    "X.columns[rfe.get_support(indices=True)].tolist()"
   ]
  },
  {
   "cell_type": "markdown",
   "metadata": {},
   "source": [
    "#### The results\n",
    "Compare and contrast the selected features from the filter and wrapper methods. "
   ]
  },
  {
   "cell_type": "markdown",
   "metadata": {},
   "source": [
    "**TODO: Compare and contrast the results**\n",
    "\n",
    "- The 5 best columns for k best are PU Location ID, DO location ID, fare_amount, total_amount, and congestion_surcharge. The 5 best columns for RFE are fare_amount, extra, tolls_amount, total_amount, and congestion_surcharge. The methods have 3 of the same columns selected Total_amount, fare_amount, and congestion_surcharge."
   ]
  },
  {
   "cell_type": "markdown",
   "metadata": {},
   "source": [
    "### Step 5: Standardize the input features\n",
    "Use the [MinMaxScaler](https://scikit-learn.org/stable/modules/generated/sklearn.preprocessing.MinMaxScaler.html#sklearn.preprocessing.MinMaxScaler) in [scikit-learn's preprocessing module](https://scikit-learn.org/stable/modules/preprocessing.html) to scale the input features between 0.1 and 0.9 (i.e. the min and max respectively). "
   ]
  },
  {
   "cell_type": "code",
   "execution_count": 17,
   "metadata": {},
   "outputs": [
    {
     "data": {
      "text/plain": [
       "array([[0.1       , 0.31984733, 0.31679389, ..., 0.17507173, 0.1       ,\n",
       "        0.1       ],\n",
       "       [0.1       , 0.21603053, 0.60381679, ..., 0.22421941, 0.1       ,\n",
       "        0.1       ],\n",
       "       [0.1       , 0.21603053, 0.31679389, ..., 0.16075949, 0.1       ,\n",
       "        0.1       ],\n",
       "       ...,\n",
       "       [0.1       , 0.31679389, 0.31679389, ..., 0.1345654 , 0.1       ,\n",
       "        0.1       ],\n",
       "       [0.1       , 0.24961832, 0.68625954, ..., 0.22259916, 0.1       ,\n",
       "        0.1       ],\n",
       "       [0.1       , 0.31679389, 0.59770992, ..., 0.20801688, 0.1       ,\n",
       "        0.1       ]])"
      ]
     },
     "execution_count": 17,
     "metadata": {},
     "output_type": "execute_result"
    }
   ],
   "source": [
    "#Standardize the input features\n",
    "scaler = MinMaxScaler(feature_range=(0.1,0.9) #TODO: provide the min and max values for the features\n",
    "                     )\n",
    "\n",
    "X2 = scaler.fit_transform(X)\n",
    "X2"
   ]
  },
  {
   "cell_type": "code",
   "execution_count": 31,
   "metadata": {},
   "outputs": [],
   "source": [
    "#TODO: Perform the SelectKBest and Recursive Feature Elimination steps using the standardized data"
   ]
  },
  {
   "cell_type": "code",
   "execution_count": null,
   "metadata": {},
   "outputs": [],
   "source": [
    "#TODO: display the names of the selected features for each method"
   ]
  },
  {
   "cell_type": "code",
   "execution_count": 18,
   "metadata": {},
   "outputs": [
    {
     "name": "stdout",
     "output_type": "stream",
     "text": [
      "[[0.31679389 0.26248507 0.16857143 0.1        0.1       ]\n",
      " [0.60381679 0.35902031 0.22952381 0.1        0.1       ]\n",
      " [0.31679389 0.18506571 0.16095238 0.31333333 0.1       ]\n",
      " [0.83282443 0.19749104 0.16857143 0.1        0.1       ]\n",
      " [0.81755725 0.24145759 0.21428571 0.1        0.1       ]]\n"
     ]
    }
   ],
   "source": [
    "k_best2   = SelectKBest(chi2, #TODO choose either chi2 or f_classif\n",
    "                     k=5 #TODO: enter the value for k\n",
    "                    )\n",
    "\n",
    "k_best2   = k_best.fit(X2, y)\n",
    "\n",
    "features2 = k_best2.transform(X2)\n",
    "\n",
    "#TODO: display the names of the selected features below\n",
    "features2.shape\n",
    "print(features2[0:5,:])"
   ]
  },
  {
   "cell_type": "code",
   "execution_count": 22,
   "metadata": {},
   "outputs": [
    {
     "name": "stdout",
     "output_type": "stream",
     "text": [
      "[False False  True False  True  True  True False False False False False\n",
      "  True]\n"
     ]
    }
   ],
   "source": [
    "print(k_best2.get_support())"
   ]
  },
  {
   "cell_type": "code",
   "execution_count": 34,
   "metadata": {},
   "outputs": [
    {
     "name": "stdout",
     "output_type": "stream",
     "text": [
      "Fitting estimator with 13 features.\n",
      "Fitting estimator with 12 features.\n",
      "Fitting estimator with 11 features.\n",
      "Fitting estimator with 10 features.\n",
      "Fitting estimator with 9 features.\n",
      "Fitting estimator with 8 features.\n",
      "Fitting estimator with 7 features.\n",
      "Fitting estimator with 6 features.\n",
      "RFE(estimator=SVC(kernel='linear'), n_features_to_select=5, verbose=1)\n"
     ]
    }
   ],
   "source": [
    "\n",
    "svm_estimator2 = svm.SVC(kernel='linear') #initialize the SVM estimator\n",
    "\n",
    "#TODO: Recursive Feature Elimination\n",
    "rfe2 = RFE(estimator=svm_estimator2, #TODO: provide the SVM estimator \n",
    "          verbose=1, \n",
    "          n_features_to_select=5#TODO: enter the number of required features\n",
    "         )\n",
    "\n",
    "rfe2.fit(X2, y) #Note: this may take a few minutes to complete\n",
    "\n",
    "#TODO: display the names of the selected features below\n",
    "print(rfe2)\n"
   ]
  },
  {
   "cell_type": "code",
   "execution_count": 35,
   "metadata": {},
   "outputs": [
    {
     "data": {
      "text/plain": [
       "array([False, False, False, False,  True,  True, False,  True, False,\n",
       "       False,  True, False,  True])"
      ]
     },
     "execution_count": 35,
     "metadata": {},
     "output_type": "execute_result"
    }
   ],
   "source": [
    "rfe2.support_"
   ]
  },
  {
   "cell_type": "markdown",
   "metadata": {},
   "source": [
    "**K_best2 selected features**\n",
    "- DOLocationID\n",
    "- trip_distance\n",
    "- fare_amount\n",
    "- extra\n",
    "- congestion_surcharge\n",
    "\n",
    "**SVM Estimator selected features**\n",
    "- trip_distance\n",
    "- fare_amount\n",
    "- mta_tax\n",
    "- total_amount\n",
    "- congestion_surcharge"
   ]
  },
  {
   "cell_type": "markdown",
   "metadata": {},
   "source": [
    "#### The results\n",
    "Compare and contrast the scaled features from the filter and wrapper methods. "
   ]
  },
  {
   "cell_type": "markdown",
   "metadata": {},
   "source": [
    "**TODO: Compare and contrast the results**\n",
    "\n",
    "- The 5 best columns for k best are DOLocationID, trip_distance, fare_amount, extra, and congestion_surcharge. The 5 best columns for RFE are trip_distance, fare_amount,  total_amount, mta_tax, total_amount and congestion_surcharge. The methods have 3 of the same columns selected trip_distance, fare_amount, and congestion_surcharge"
   ]
  },
  {
   "cell_type": "markdown",
   "metadata": {},
   "source": [
    "### Step 6: Explain the effect of standardizing the data"
   ]
  },
  {
   "cell_type": "markdown",
   "metadata": {},
   "source": [
    "**TODO: Explain the effect of standardizing the data**\n",
    "- Standardizing the data helps balance the dataset. This is crucial for dealing with datasets that have different integer values. An example of this would be when dealing with 100 feet and 100 cm. This also helps the machine learning algorithms neutralize any outliers within the dataset."
   ]
  },
  {
   "cell_type": "markdown",
   "metadata": {},
   "source": [
    "### Step 7:  Observations about the selected features\n",
    "Based on your observations about the features, did the algorithm identify meaningful features and did they align with your previous intuition about the data (Recall the data wrangling exercise)? Did it identify any features that you would not have otherwise considered."
   ]
  },
  {
   "cell_type": "markdown",
   "metadata": {},
   "source": [
    "**#TODO: Explain your observations.**\n",
    "\n",
    "- The most important features according to the algorithms being used are features I thought were crucial when using data wrangling techniques. It makes sense that the tip would be greater the longer the distance. This is due to the mileage and time it takes to get to distances farther away. I did not think of a congestion surcharge. This is something I have never had to deal with in life and it is interesting to see its impact on the dataset.\n",
    "- Overall these models are crucial when dealing with datasets that have a lot of features and need to be cleaned before machine learning algorithms are implemented. These methods will increase accuracy when doing testing.\n"
   ]
  }
 ],
 "metadata": {
  "kernelspec": {
   "display_name": "Python 3 (ipykernel)",
   "language": "python",
   "name": "python3"
  },
  "language_info": {
   "codemirror_mode": {
    "name": "ipython",
    "version": 3
   },
   "file_extension": ".py",
   "mimetype": "text/x-python",
   "name": "python",
   "nbconvert_exporter": "python",
   "pygments_lexer": "ipython3",
   "version": "3.9.7"
  }
 },
 "nbformat": 4,
 "nbformat_minor": 2
}
